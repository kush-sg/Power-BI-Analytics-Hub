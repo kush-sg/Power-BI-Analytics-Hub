{
 "cells": [
  {
   "cell_type": "markdown",
   "id": "64f2bfd1",
   "metadata": {},
   "source": [
    "# RELIANCE INDUSTRIES"
   ]
  },
  {
   "cell_type": "markdown",
   "id": "4309ded4",
   "metadata": {},
   "source": [
    "Data Set https://www.kaggle.com/datasets/notshrirang/reliance-stock-price-dataset"
   ]
  },
  {
   "cell_type": "code",
   "execution_count": 37,
   "id": "9f5796b7",
   "metadata": {},
   "outputs": [],
   "source": [
    "import pandas as pd\n",
    "import numpy as np\n",
    "import matplotlib.pyplot as plt\n",
    "import seaborn as sns\n",
    "\n",
    "import warnings\n",
    "warnings.filterwarnings('ignore')"
   ]
  },
  {
   "cell_type": "code",
   "execution_count": 69,
   "id": "eb93a887",
   "metadata": {
    "scrolled": true
   },
   "outputs": [
    {
     "data": {
      "text/html": [
       "<div>\n",
       "<style scoped>\n",
       "    .dataframe tbody tr th:only-of-type {\n",
       "        vertical-align: middle;\n",
       "    }\n",
       "\n",
       "    .dataframe tbody tr th {\n",
       "        vertical-align: top;\n",
       "    }\n",
       "\n",
       "    .dataframe thead th {\n",
       "        text-align: right;\n",
       "    }\n",
       "</style>\n",
       "<table border=\"1\" class=\"dataframe\">\n",
       "  <thead>\n",
       "    <tr style=\"text-align: right;\">\n",
       "      <th></th>\n",
       "      <th>Date</th>\n",
       "      <th>Symbol</th>\n",
       "      <th>Series</th>\n",
       "      <th>Prev Close</th>\n",
       "      <th>Open</th>\n",
       "      <th>High</th>\n",
       "      <th>Low</th>\n",
       "      <th>Last</th>\n",
       "      <th>Close</th>\n",
       "      <th>VWAP</th>\n",
       "      <th>Volume</th>\n",
       "      <th>Turnover</th>\n",
       "      <th>Trades</th>\n",
       "      <th>Deliverable Volume</th>\n",
       "      <th>%Deliverble</th>\n",
       "    </tr>\n",
       "  </thead>\n",
       "  <tbody>\n",
       "    <tr>\n",
       "      <th>6175</th>\n",
       "      <td>19-10-2020</td>\n",
       "      <td>RELIANCE</td>\n",
       "      <td>EQ</td>\n",
       "      <td>2175.80</td>\n",
       "      <td>2190.05</td>\n",
       "      <td>2228.70</td>\n",
       "      <td>2155.15</td>\n",
       "      <td>2175.50</td>\n",
       "      <td>2176.20</td>\n",
       "      <td>2189.75</td>\n",
       "      <td>14399062</td>\n",
       "      <td>3.153030e+15</td>\n",
       "      <td>363717.0</td>\n",
       "      <td>3772907.0</td>\n",
       "      <td>0.2620</td>\n",
       "    </tr>\n",
       "    <tr>\n",
       "      <th>6176</th>\n",
       "      <td>20-10-2020</td>\n",
       "      <td>RELIANCE</td>\n",
       "      <td>EQ</td>\n",
       "      <td>2176.20</td>\n",
       "      <td>2179.00</td>\n",
       "      <td>2193.00</td>\n",
       "      <td>2152.25</td>\n",
       "      <td>2155.85</td>\n",
       "      <td>2155.90</td>\n",
       "      <td>2166.54</td>\n",
       "      <td>8529621</td>\n",
       "      <td>1.847970e+15</td>\n",
       "      <td>275082.0</td>\n",
       "      <td>2119328.0</td>\n",
       "      <td>0.2485</td>\n",
       "    </tr>\n",
       "    <tr>\n",
       "      <th>6177</th>\n",
       "      <td>21-10-2020</td>\n",
       "      <td>RELIANCE</td>\n",
       "      <td>EQ</td>\n",
       "      <td>2155.90</td>\n",
       "      <td>2168.00</td>\n",
       "      <td>2192.00</td>\n",
       "      <td>2097.75</td>\n",
       "      <td>2122.65</td>\n",
       "      <td>2124.60</td>\n",
       "      <td>2143.87</td>\n",
       "      <td>15729989</td>\n",
       "      <td>3.372310e+15</td>\n",
       "      <td>399065.0</td>\n",
       "      <td>3975978.0</td>\n",
       "      <td>0.2528</td>\n",
       "    </tr>\n",
       "    <tr>\n",
       "      <th>6178</th>\n",
       "      <td>22-10-2020</td>\n",
       "      <td>RELIANCE</td>\n",
       "      <td>EQ</td>\n",
       "      <td>2124.60</td>\n",
       "      <td>2127.40</td>\n",
       "      <td>2132.50</td>\n",
       "      <td>2091.00</td>\n",
       "      <td>2111.90</td>\n",
       "      <td>2106.95</td>\n",
       "      <td>2107.04</td>\n",
       "      <td>14215255</td>\n",
       "      <td>2.995210e+15</td>\n",
       "      <td>391498.0</td>\n",
       "      <td>5836281.0</td>\n",
       "      <td>0.4106</td>\n",
       "    </tr>\n",
       "    <tr>\n",
       "      <th>6179</th>\n",
       "      <td>23-10-2020</td>\n",
       "      <td>RELIANCE</td>\n",
       "      <td>EQ</td>\n",
       "      <td>2106.95</td>\n",
       "      <td>2106.00</td>\n",
       "      <td>2135.00</td>\n",
       "      <td>2096.40</td>\n",
       "      <td>2112.00</td>\n",
       "      <td>2113.05</td>\n",
       "      <td>2118.90</td>\n",
       "      <td>10809383</td>\n",
       "      <td>2.290410e+15</td>\n",
       "      <td>265187.0</td>\n",
       "      <td>3551502.0</td>\n",
       "      <td>0.3286</td>\n",
       "    </tr>\n",
       "    <tr>\n",
       "      <th>6180</th>\n",
       "      <td>26-10-2020</td>\n",
       "      <td>RELIANCE</td>\n",
       "      <td>EQ</td>\n",
       "      <td>2113.05</td>\n",
       "      <td>2101.95</td>\n",
       "      <td>2101.95</td>\n",
       "      <td>2018.50</td>\n",
       "      <td>2034.90</td>\n",
       "      <td>2029.10</td>\n",
       "      <td>2052.69</td>\n",
       "      <td>17225340</td>\n",
       "      <td>3.535830e+15</td>\n",
       "      <td>581238.0</td>\n",
       "      <td>6324776.0</td>\n",
       "      <td>0.3672</td>\n",
       "    </tr>\n",
       "    <tr>\n",
       "      <th>6181</th>\n",
       "      <td>27-10-2020</td>\n",
       "      <td>RELIANCE</td>\n",
       "      <td>EQ</td>\n",
       "      <td>2029.10</td>\n",
       "      <td>2034.90</td>\n",
       "      <td>2059.85</td>\n",
       "      <td>2005.00</td>\n",
       "      <td>2034.40</td>\n",
       "      <td>2034.50</td>\n",
       "      <td>2026.38</td>\n",
       "      <td>16835011</td>\n",
       "      <td>3.411410e+15</td>\n",
       "      <td>462764.0</td>\n",
       "      <td>5199796.0</td>\n",
       "      <td>0.3089</td>\n",
       "    </tr>\n",
       "    <tr>\n",
       "      <th>6182</th>\n",
       "      <td>28-10-2020</td>\n",
       "      <td>RELIANCE</td>\n",
       "      <td>EQ</td>\n",
       "      <td>2034.50</td>\n",
       "      <td>2041.80</td>\n",
       "      <td>2057.70</td>\n",
       "      <td>2007.40</td>\n",
       "      <td>2008.90</td>\n",
       "      <td>2011.45</td>\n",
       "      <td>2026.02</td>\n",
       "      <td>13810054</td>\n",
       "      <td>2.797940e+15</td>\n",
       "      <td>413849.0</td>\n",
       "      <td>4822048.0</td>\n",
       "      <td>0.3492</td>\n",
       "    </tr>\n",
       "    <tr>\n",
       "      <th>6183</th>\n",
       "      <td>29-10-2020</td>\n",
       "      <td>RELIANCE</td>\n",
       "      <td>EQ</td>\n",
       "      <td>2011.45</td>\n",
       "      <td>1997.00</td>\n",
       "      <td>2042.00</td>\n",
       "      <td>1991.00</td>\n",
       "      <td>2029.05</td>\n",
       "      <td>2026.90</td>\n",
       "      <td>2019.57</td>\n",
       "      <td>14147681</td>\n",
       "      <td>2.857220e+15</td>\n",
       "      <td>382087.0</td>\n",
       "      <td>3346100.0</td>\n",
       "      <td>0.2365</td>\n",
       "    </tr>\n",
       "    <tr>\n",
       "      <th>6184</th>\n",
       "      <td>30-10-2020</td>\n",
       "      <td>RELIANCE</td>\n",
       "      <td>EQ</td>\n",
       "      <td>2026.90</td>\n",
       "      <td>2033.50</td>\n",
       "      <td>2065.10</td>\n",
       "      <td>2021.80</td>\n",
       "      <td>2064.35</td>\n",
       "      <td>2054.50</td>\n",
       "      <td>2040.66</td>\n",
       "      <td>15701123</td>\n",
       "      <td>3.204060e+15</td>\n",
       "      <td>349177.0</td>\n",
       "      <td>3880807.0</td>\n",
       "      <td>0.2472</td>\n",
       "    </tr>\n",
       "    <tr>\n",
       "      <th>6185</th>\n",
       "      <td>02-11-2020</td>\n",
       "      <td>RELIANCE</td>\n",
       "      <td>EQ</td>\n",
       "      <td>2054.50</td>\n",
       "      <td>2027.00</td>\n",
       "      <td>2027.00</td>\n",
       "      <td>1859.15</td>\n",
       "      <td>1876.00</td>\n",
       "      <td>1877.45</td>\n",
       "      <td>1927.55</td>\n",
       "      <td>45857806</td>\n",
       "      <td>8.839330e+15</td>\n",
       "      <td>1428490.0</td>\n",
       "      <td>12596880.0</td>\n",
       "      <td>0.2747</td>\n",
       "    </tr>\n",
       "    <tr>\n",
       "      <th>6186</th>\n",
       "      <td>03-11-2020</td>\n",
       "      <td>RELIANCE</td>\n",
       "      <td>EQ</td>\n",
       "      <td>1877.45</td>\n",
       "      <td>1890.00</td>\n",
       "      <td>1909.00</td>\n",
       "      <td>1835.10</td>\n",
       "      <td>1854.50</td>\n",
       "      <td>1850.40</td>\n",
       "      <td>1873.92</td>\n",
       "      <td>40931170</td>\n",
       "      <td>7.670180e+15</td>\n",
       "      <td>990935.0</td>\n",
       "      <td>11064654.0</td>\n",
       "      <td>0.2703</td>\n",
       "    </tr>\n",
       "    <tr>\n",
       "      <th>6187</th>\n",
       "      <td>04-11-2020</td>\n",
       "      <td>RELIANCE</td>\n",
       "      <td>EQ</td>\n",
       "      <td>1850.40</td>\n",
       "      <td>1837.00</td>\n",
       "      <td>1929.00</td>\n",
       "      <td>1837.00</td>\n",
       "      <td>1910.50</td>\n",
       "      <td>1913.20</td>\n",
       "      <td>1893.24</td>\n",
       "      <td>37003111</td>\n",
       "      <td>7.005570e+15</td>\n",
       "      <td>888904.0</td>\n",
       "      <td>6665864.0</td>\n",
       "      <td>0.1801</td>\n",
       "    </tr>\n",
       "    <tr>\n",
       "      <th>6188</th>\n",
       "      <td>05-11-2020</td>\n",
       "      <td>RELIANCE</td>\n",
       "      <td>EQ</td>\n",
       "      <td>1913.20</td>\n",
       "      <td>1954.95</td>\n",
       "      <td>1960.95</td>\n",
       "      <td>1932.00</td>\n",
       "      <td>1956.80</td>\n",
       "      <td>1955.00</td>\n",
       "      <td>1949.03</td>\n",
       "      <td>17170274</td>\n",
       "      <td>3.346530e+15</td>\n",
       "      <td>448665.0</td>\n",
       "      <td>5252804.0</td>\n",
       "      <td>0.3059</td>\n",
       "    </tr>\n",
       "    <tr>\n",
       "      <th>6189</th>\n",
       "      <td>06-11-2020</td>\n",
       "      <td>RELIANCE</td>\n",
       "      <td>EQ</td>\n",
       "      <td>1955.00</td>\n",
       "      <td>1990.00</td>\n",
       "      <td>2040.00</td>\n",
       "      <td>1978.15</td>\n",
       "      <td>2025.00</td>\n",
       "      <td>2029.15</td>\n",
       "      <td>2015.72</td>\n",
       "      <td>30770080</td>\n",
       "      <td>6.202390e+15</td>\n",
       "      <td>649196.0</td>\n",
       "      <td>8468704.0</td>\n",
       "      <td>0.2752</td>\n",
       "    </tr>\n",
       "    <tr>\n",
       "      <th>6190</th>\n",
       "      <td>09-11-2020</td>\n",
       "      <td>RELIANCE</td>\n",
       "      <td>EQ</td>\n",
       "      <td>2029.15</td>\n",
       "      <td>2062.10</td>\n",
       "      <td>2069.00</td>\n",
       "      <td>2036.00</td>\n",
       "      <td>2051.00</td>\n",
       "      <td>2050.70</td>\n",
       "      <td>2051.91</td>\n",
       "      <td>16539467</td>\n",
       "      <td>3.393750e+15</td>\n",
       "      <td>384188.0</td>\n",
       "      <td>6258441.0</td>\n",
       "      <td>0.3784</td>\n",
       "    </tr>\n",
       "    <tr>\n",
       "      <th>6191</th>\n",
       "      <td>10-11-2020</td>\n",
       "      <td>RELIANCE</td>\n",
       "      <td>EQ</td>\n",
       "      <td>2050.70</td>\n",
       "      <td>2077.00</td>\n",
       "      <td>2090.00</td>\n",
       "      <td>2041.20</td>\n",
       "      <td>2089.00</td>\n",
       "      <td>2084.55</td>\n",
       "      <td>2071.86</td>\n",
       "      <td>17045147</td>\n",
       "      <td>3.531520e+15</td>\n",
       "      <td>399073.0</td>\n",
       "      <td>6458474.0</td>\n",
       "      <td>0.3789</td>\n",
       "    </tr>\n",
       "    <tr>\n",
       "      <th>6192</th>\n",
       "      <td>11-11-2020</td>\n",
       "      <td>RELIANCE</td>\n",
       "      <td>EQ</td>\n",
       "      <td>2084.55</td>\n",
       "      <td>2089.00</td>\n",
       "      <td>2095.00</td>\n",
       "      <td>1978.10</td>\n",
       "      <td>1999.80</td>\n",
       "      <td>1997.20</td>\n",
       "      <td>2027.80</td>\n",
       "      <td>26178477</td>\n",
       "      <td>5.308460e+15</td>\n",
       "      <td>647679.0</td>\n",
       "      <td>9063191.0</td>\n",
       "      <td>0.3462</td>\n",
       "    </tr>\n",
       "    <tr>\n",
       "      <th>6193</th>\n",
       "      <td>12-11-2020</td>\n",
       "      <td>RELIANCE</td>\n",
       "      <td>EQ</td>\n",
       "      <td>1997.20</td>\n",
       "      <td>1981.00</td>\n",
       "      <td>2008.45</td>\n",
       "      <td>1965.00</td>\n",
       "      <td>1981.75</td>\n",
       "      <td>1980.00</td>\n",
       "      <td>1987.14</td>\n",
       "      <td>18481466</td>\n",
       "      <td>3.672520e+15</td>\n",
       "      <td>440630.0</td>\n",
       "      <td>6746860.0</td>\n",
       "      <td>0.3651</td>\n",
       "    </tr>\n",
       "    <tr>\n",
       "      <th>6194</th>\n",
       "      <td>13-11-2020</td>\n",
       "      <td>RELIANCE</td>\n",
       "      <td>EQ</td>\n",
       "      <td>1980.00</td>\n",
       "      <td>1982.00</td>\n",
       "      <td>2036.65</td>\n",
       "      <td>1981.75</td>\n",
       "      <td>2000.05</td>\n",
       "      <td>1996.40</td>\n",
       "      <td>2007.38</td>\n",
       "      <td>20946864</td>\n",
       "      <td>4.204830e+15</td>\n",
       "      <td>507695.0</td>\n",
       "      <td>5280992.0</td>\n",
       "      <td>0.2521</td>\n",
       "    </tr>\n",
       "    <tr>\n",
       "      <th>6195</th>\n",
       "      <td>14-11-2020</td>\n",
       "      <td>RELIANCE</td>\n",
       "      <td>EQ</td>\n",
       "      <td>1996.40</td>\n",
       "      <td>2014.90</td>\n",
       "      <td>2015.30</td>\n",
       "      <td>1995.35</td>\n",
       "      <td>2001.55</td>\n",
       "      <td>2002.30</td>\n",
       "      <td>2005.96</td>\n",
       "      <td>2411900</td>\n",
       "      <td>4.838160e+14</td>\n",
       "      <td>99484.0</td>\n",
       "      <td>621485.0</td>\n",
       "      <td>0.2577</td>\n",
       "    </tr>\n",
       "    <tr>\n",
       "      <th>6196</th>\n",
       "      <td>17-11-2020</td>\n",
       "      <td>RELIANCE</td>\n",
       "      <td>EQ</td>\n",
       "      <td>2002.30</td>\n",
       "      <td>2085.00</td>\n",
       "      <td>2085.00</td>\n",
       "      <td>1985.00</td>\n",
       "      <td>1994.80</td>\n",
       "      <td>1993.25</td>\n",
       "      <td>2013.16</td>\n",
       "      <td>21479385</td>\n",
       "      <td>4.324140e+15</td>\n",
       "      <td>462630.0</td>\n",
       "      <td>5819797.0</td>\n",
       "      <td>0.2709</td>\n",
       "    </tr>\n",
       "    <tr>\n",
       "      <th>6197</th>\n",
       "      <td>18-11-2020</td>\n",
       "      <td>RELIANCE</td>\n",
       "      <td>EQ</td>\n",
       "      <td>1993.25</td>\n",
       "      <td>1993.25</td>\n",
       "      <td>2006.50</td>\n",
       "      <td>1960.10</td>\n",
       "      <td>1991.20</td>\n",
       "      <td>1987.20</td>\n",
       "      <td>1979.95</td>\n",
       "      <td>14030652</td>\n",
       "      <td>2.778000e+15</td>\n",
       "      <td>410607.0</td>\n",
       "      <td>3601706.0</td>\n",
       "      <td>0.2567</td>\n",
       "    </tr>\n",
       "    <tr>\n",
       "      <th>6198</th>\n",
       "      <td>19-11-2020</td>\n",
       "      <td>RELIANCE</td>\n",
       "      <td>EQ</td>\n",
       "      <td>1987.20</td>\n",
       "      <td>1987.20</td>\n",
       "      <td>2010.45</td>\n",
       "      <td>1968.20</td>\n",
       "      <td>1972.00</td>\n",
       "      <td>1973.15</td>\n",
       "      <td>1987.24</td>\n",
       "      <td>12828008</td>\n",
       "      <td>2.549230e+15</td>\n",
       "      <td>307890.0</td>\n",
       "      <td>3570924.0</td>\n",
       "      <td>0.2784</td>\n",
       "    </tr>\n",
       "    <tr>\n",
       "      <th>6199</th>\n",
       "      <td>20-11-2020</td>\n",
       "      <td>RELIANCE</td>\n",
       "      <td>EQ</td>\n",
       "      <td>1973.15</td>\n",
       "      <td>1975.00</td>\n",
       "      <td>1983.80</td>\n",
       "      <td>1895.00</td>\n",
       "      <td>1901.00</td>\n",
       "      <td>1899.50</td>\n",
       "      <td>1923.27</td>\n",
       "      <td>26522972</td>\n",
       "      <td>5.101080e+15</td>\n",
       "      <td>794436.0</td>\n",
       "      <td>7772176.0</td>\n",
       "      <td>0.2930</td>\n",
       "    </tr>\n",
       "    <tr>\n",
       "      <th>6200</th>\n",
       "      <td>23-11-2020</td>\n",
       "      <td>RELIANCE</td>\n",
       "      <td>EQ</td>\n",
       "      <td>1899.50</td>\n",
       "      <td>1951.00</td>\n",
       "      <td>1970.00</td>\n",
       "      <td>1926.25</td>\n",
       "      <td>1955.20</td>\n",
       "      <td>1950.70</td>\n",
       "      <td>1952.18</td>\n",
       "      <td>20918665</td>\n",
       "      <td>4.083700e+15</td>\n",
       "      <td>497781.0</td>\n",
       "      <td>5148955.0</td>\n",
       "      <td>0.2461</td>\n",
       "    </tr>\n",
       "    <tr>\n",
       "      <th>6201</th>\n",
       "      <td>24-11-2020</td>\n",
       "      <td>RELIANCE</td>\n",
       "      <td>EQ</td>\n",
       "      <td>1950.70</td>\n",
       "      <td>1964.00</td>\n",
       "      <td>1974.00</td>\n",
       "      <td>1932.00</td>\n",
       "      <td>1971.05</td>\n",
       "      <td>1964.05</td>\n",
       "      <td>1952.11</td>\n",
       "      <td>14277083</td>\n",
       "      <td>2.787040e+15</td>\n",
       "      <td>362587.0</td>\n",
       "      <td>3213843.0</td>\n",
       "      <td>0.2251</td>\n",
       "    </tr>\n",
       "    <tr>\n",
       "      <th>6202</th>\n",
       "      <td>25-11-2020</td>\n",
       "      <td>RELIANCE</td>\n",
       "      <td>EQ</td>\n",
       "      <td>1964.05</td>\n",
       "      <td>1980.00</td>\n",
       "      <td>1992.95</td>\n",
       "      <td>1942.20</td>\n",
       "      <td>1947.50</td>\n",
       "      <td>1947.80</td>\n",
       "      <td>1969.06</td>\n",
       "      <td>15062376</td>\n",
       "      <td>2.965870e+15</td>\n",
       "      <td>356793.0</td>\n",
       "      <td>3040444.0</td>\n",
       "      <td>0.2019</td>\n",
       "    </tr>\n",
       "    <tr>\n",
       "      <th>6203</th>\n",
       "      <td>26-11-2020</td>\n",
       "      <td>RELIANCE</td>\n",
       "      <td>EQ</td>\n",
       "      <td>1947.80</td>\n",
       "      <td>1953.05</td>\n",
       "      <td>1965.00</td>\n",
       "      <td>1930.05</td>\n",
       "      <td>1957.00</td>\n",
       "      <td>1952.60</td>\n",
       "      <td>1946.67</td>\n",
       "      <td>11924527</td>\n",
       "      <td>2.321310e+15</td>\n",
       "      <td>266412.0</td>\n",
       "      <td>3406506.0</td>\n",
       "      <td>0.2857</td>\n",
       "    </tr>\n",
       "    <tr>\n",
       "      <th>6204</th>\n",
       "      <td>27-11-2020</td>\n",
       "      <td>RELIANCE</td>\n",
       "      <td>EQ</td>\n",
       "      <td>1952.60</td>\n",
       "      <td>1940.50</td>\n",
       "      <td>1956.10</td>\n",
       "      <td>1921.40</td>\n",
       "      <td>1940.50</td>\n",
       "      <td>1929.80</td>\n",
       "      <td>1935.45</td>\n",
       "      <td>21845931</td>\n",
       "      <td>4.228160e+15</td>\n",
       "      <td>314085.0</td>\n",
       "      <td>12489338.0</td>\n",
       "      <td>0.5717</td>\n",
       "    </tr>\n",
       "  </tbody>\n",
       "</table>\n",
       "</div>"
      ],
      "text/plain": [
       "            Date    Symbol Series  Prev Close     Open     High      Low  \\\n",
       "6175  19-10-2020  RELIANCE     EQ     2175.80  2190.05  2228.70  2155.15   \n",
       "6176  20-10-2020  RELIANCE     EQ     2176.20  2179.00  2193.00  2152.25   \n",
       "6177  21-10-2020  RELIANCE     EQ     2155.90  2168.00  2192.00  2097.75   \n",
       "6178  22-10-2020  RELIANCE     EQ     2124.60  2127.40  2132.50  2091.00   \n",
       "6179  23-10-2020  RELIANCE     EQ     2106.95  2106.00  2135.00  2096.40   \n",
       "6180  26-10-2020  RELIANCE     EQ     2113.05  2101.95  2101.95  2018.50   \n",
       "6181  27-10-2020  RELIANCE     EQ     2029.10  2034.90  2059.85  2005.00   \n",
       "6182  28-10-2020  RELIANCE     EQ     2034.50  2041.80  2057.70  2007.40   \n",
       "6183  29-10-2020  RELIANCE     EQ     2011.45  1997.00  2042.00  1991.00   \n",
       "6184  30-10-2020  RELIANCE     EQ     2026.90  2033.50  2065.10  2021.80   \n",
       "6185  02-11-2020  RELIANCE     EQ     2054.50  2027.00  2027.00  1859.15   \n",
       "6186  03-11-2020  RELIANCE     EQ     1877.45  1890.00  1909.00  1835.10   \n",
       "6187  04-11-2020  RELIANCE     EQ     1850.40  1837.00  1929.00  1837.00   \n",
       "6188  05-11-2020  RELIANCE     EQ     1913.20  1954.95  1960.95  1932.00   \n",
       "6189  06-11-2020  RELIANCE     EQ     1955.00  1990.00  2040.00  1978.15   \n",
       "6190  09-11-2020  RELIANCE     EQ     2029.15  2062.10  2069.00  2036.00   \n",
       "6191  10-11-2020  RELIANCE     EQ     2050.70  2077.00  2090.00  2041.20   \n",
       "6192  11-11-2020  RELIANCE     EQ     2084.55  2089.00  2095.00  1978.10   \n",
       "6193  12-11-2020  RELIANCE     EQ     1997.20  1981.00  2008.45  1965.00   \n",
       "6194  13-11-2020  RELIANCE     EQ     1980.00  1982.00  2036.65  1981.75   \n",
       "6195  14-11-2020  RELIANCE     EQ     1996.40  2014.90  2015.30  1995.35   \n",
       "6196  17-11-2020  RELIANCE     EQ     2002.30  2085.00  2085.00  1985.00   \n",
       "6197  18-11-2020  RELIANCE     EQ     1993.25  1993.25  2006.50  1960.10   \n",
       "6198  19-11-2020  RELIANCE     EQ     1987.20  1987.20  2010.45  1968.20   \n",
       "6199  20-11-2020  RELIANCE     EQ     1973.15  1975.00  1983.80  1895.00   \n",
       "6200  23-11-2020  RELIANCE     EQ     1899.50  1951.00  1970.00  1926.25   \n",
       "6201  24-11-2020  RELIANCE     EQ     1950.70  1964.00  1974.00  1932.00   \n",
       "6202  25-11-2020  RELIANCE     EQ     1964.05  1980.00  1992.95  1942.20   \n",
       "6203  26-11-2020  RELIANCE     EQ     1947.80  1953.05  1965.00  1930.05   \n",
       "6204  27-11-2020  RELIANCE     EQ     1952.60  1940.50  1956.10  1921.40   \n",
       "\n",
       "         Last    Close     VWAP    Volume      Turnover     Trades  \\\n",
       "6175  2175.50  2176.20  2189.75  14399062  3.153030e+15   363717.0   \n",
       "6176  2155.85  2155.90  2166.54   8529621  1.847970e+15   275082.0   \n",
       "6177  2122.65  2124.60  2143.87  15729989  3.372310e+15   399065.0   \n",
       "6178  2111.90  2106.95  2107.04  14215255  2.995210e+15   391498.0   \n",
       "6179  2112.00  2113.05  2118.90  10809383  2.290410e+15   265187.0   \n",
       "6180  2034.90  2029.10  2052.69  17225340  3.535830e+15   581238.0   \n",
       "6181  2034.40  2034.50  2026.38  16835011  3.411410e+15   462764.0   \n",
       "6182  2008.90  2011.45  2026.02  13810054  2.797940e+15   413849.0   \n",
       "6183  2029.05  2026.90  2019.57  14147681  2.857220e+15   382087.0   \n",
       "6184  2064.35  2054.50  2040.66  15701123  3.204060e+15   349177.0   \n",
       "6185  1876.00  1877.45  1927.55  45857806  8.839330e+15  1428490.0   \n",
       "6186  1854.50  1850.40  1873.92  40931170  7.670180e+15   990935.0   \n",
       "6187  1910.50  1913.20  1893.24  37003111  7.005570e+15   888904.0   \n",
       "6188  1956.80  1955.00  1949.03  17170274  3.346530e+15   448665.0   \n",
       "6189  2025.00  2029.15  2015.72  30770080  6.202390e+15   649196.0   \n",
       "6190  2051.00  2050.70  2051.91  16539467  3.393750e+15   384188.0   \n",
       "6191  2089.00  2084.55  2071.86  17045147  3.531520e+15   399073.0   \n",
       "6192  1999.80  1997.20  2027.80  26178477  5.308460e+15   647679.0   \n",
       "6193  1981.75  1980.00  1987.14  18481466  3.672520e+15   440630.0   \n",
       "6194  2000.05  1996.40  2007.38  20946864  4.204830e+15   507695.0   \n",
       "6195  2001.55  2002.30  2005.96   2411900  4.838160e+14    99484.0   \n",
       "6196  1994.80  1993.25  2013.16  21479385  4.324140e+15   462630.0   \n",
       "6197  1991.20  1987.20  1979.95  14030652  2.778000e+15   410607.0   \n",
       "6198  1972.00  1973.15  1987.24  12828008  2.549230e+15   307890.0   \n",
       "6199  1901.00  1899.50  1923.27  26522972  5.101080e+15   794436.0   \n",
       "6200  1955.20  1950.70  1952.18  20918665  4.083700e+15   497781.0   \n",
       "6201  1971.05  1964.05  1952.11  14277083  2.787040e+15   362587.0   \n",
       "6202  1947.50  1947.80  1969.06  15062376  2.965870e+15   356793.0   \n",
       "6203  1957.00  1952.60  1946.67  11924527  2.321310e+15   266412.0   \n",
       "6204  1940.50  1929.80  1935.45  21845931  4.228160e+15   314085.0   \n",
       "\n",
       "      Deliverable Volume  %Deliverble  \n",
       "6175           3772907.0       0.2620  \n",
       "6176           2119328.0       0.2485  \n",
       "6177           3975978.0       0.2528  \n",
       "6178           5836281.0       0.4106  \n",
       "6179           3551502.0       0.3286  \n",
       "6180           6324776.0       0.3672  \n",
       "6181           5199796.0       0.3089  \n",
       "6182           4822048.0       0.3492  \n",
       "6183           3346100.0       0.2365  \n",
       "6184           3880807.0       0.2472  \n",
       "6185          12596880.0       0.2747  \n",
       "6186          11064654.0       0.2703  \n",
       "6187           6665864.0       0.1801  \n",
       "6188           5252804.0       0.3059  \n",
       "6189           8468704.0       0.2752  \n",
       "6190           6258441.0       0.3784  \n",
       "6191           6458474.0       0.3789  \n",
       "6192           9063191.0       0.3462  \n",
       "6193           6746860.0       0.3651  \n",
       "6194           5280992.0       0.2521  \n",
       "6195            621485.0       0.2577  \n",
       "6196           5819797.0       0.2709  \n",
       "6197           3601706.0       0.2567  \n",
       "6198           3570924.0       0.2784  \n",
       "6199           7772176.0       0.2930  \n",
       "6200           5148955.0       0.2461  \n",
       "6201           3213843.0       0.2251  \n",
       "6202           3040444.0       0.2019  \n",
       "6203           3406506.0       0.2857  \n",
       "6204          12489338.0       0.5717  "
      ]
     },
     "execution_count": 69,
     "metadata": {},
     "output_type": "execute_result"
    }
   ],
   "source": [
    "data= pd.read_csv(\"reliance_data.csv\")\n",
    "data.tail(30)"
   ]
  },
  {
   "cell_type": "code",
   "execution_count": 15,
   "id": "510f4c54",
   "metadata": {},
   "outputs": [
    {
     "name": "stdout",
     "output_type": "stream",
     "text": [
      "<class 'pandas.core.frame.DataFrame'>\n",
      "RangeIndex: 6205 entries, 0 to 6204\n",
      "Data columns (total 15 columns):\n",
      " #   Column              Non-Null Count  Dtype  \n",
      "---  ------              --------------  -----  \n",
      " 0   Date                6205 non-null   object \n",
      " 1   Symbol              6205 non-null   object \n",
      " 2   Series              6205 non-null   object \n",
      " 3   Prev Close          6205 non-null   float64\n",
      " 4   Open                6205 non-null   float64\n",
      " 5   High                6205 non-null   float64\n",
      " 6   Low                 6205 non-null   float64\n",
      " 7   Last                5657 non-null   float64\n",
      " 8   Close               6205 non-null   float64\n",
      " 9   VWAP                6205 non-null   float64\n",
      " 10  Volume              6205 non-null   int64  \n",
      " 11  Turnover            6205 non-null   float64\n",
      " 12  Trades              2356 non-null   float64\n",
      " 13  Deliverable Volume  4693 non-null   float64\n",
      " 14  %Deliverble         4693 non-null   float64\n",
      "dtypes: float64(11), int64(1), object(3)\n",
      "memory usage: 727.3+ KB\n"
     ]
    }
   ],
   "source": [
    "data.info()"
   ]
  },
  {
   "cell_type": "code",
   "execution_count": 16,
   "id": "0650f429",
   "metadata": {},
   "outputs": [
    {
     "data": {
      "text/plain": [
       "Index(['Date', 'Symbol', 'Series', 'Prev Close', 'Open', 'High', 'Low', 'Last',\n",
       "       'Close', 'VWAP', 'Volume', 'Turnover', 'Trades', 'Deliverable Volume',\n",
       "       '%Deliverble'],\n",
       "      dtype='object')"
      ]
     },
     "execution_count": 16,
     "metadata": {},
     "output_type": "execute_result"
    }
   ],
   "source": [
    "data.columns"
   ]
  },
  {
   "cell_type": "code",
   "execution_count": 17,
   "id": "9a92359a",
   "metadata": {},
   "outputs": [
    {
     "data": {
      "text/plain": [
       "Trades                3849\n",
       "Deliverable Volume    1512\n",
       "%Deliverble           1512\n",
       "Last                   548\n",
       "Date                     0\n",
       "Symbol                   0\n",
       "Series                   0\n",
       "Prev Close               0\n",
       "Open                     0\n",
       "High                     0\n",
       "Low                      0\n",
       "Close                    0\n",
       "VWAP                     0\n",
       "Volume                   0\n",
       "Turnover                 0\n",
       "dtype: int64"
      ]
     },
     "execution_count": 17,
     "metadata": {},
     "output_type": "execute_result"
    }
   ],
   "source": [
    "data.isnull().sum().sort_values(ascending=False)"
   ]
  },
  {
   "cell_type": "code",
   "execution_count": 18,
   "id": "d789c0c7",
   "metadata": {},
   "outputs": [
    {
     "data": {
      "text/plain": [
       "Trades                62.030620\n",
       "Deliverable Volume    24.367446\n",
       "%Deliverble           24.367446\n",
       "Last                   8.831587\n",
       "Date                   0.000000\n",
       "Symbol                 0.000000\n",
       "Series                 0.000000\n",
       "Prev Close             0.000000\n",
       "Open                   0.000000\n",
       "High                   0.000000\n",
       "Low                    0.000000\n",
       "Close                  0.000000\n",
       "VWAP                   0.000000\n",
       "Volume                 0.000000\n",
       "Turnover               0.000000\n",
       "dtype: float64"
      ]
     },
     "execution_count": 18,
     "metadata": {},
     "output_type": "execute_result"
    }
   ],
   "source": [
    "data.isnull().sum().sort_values(ascending=False)/len(data)*100"
   ]
  },
  {
   "cell_type": "markdown",
   "id": "a32809c1",
   "metadata": {},
   "source": [
    "we will discard the values having *Null Values>40%*"
   ]
  },
  {
   "cell_type": "code",
   "execution_count": 19,
   "id": "63b0f678",
   "metadata": {},
   "outputs": [
    {
     "name": "stdout",
     "output_type": "stream",
     "text": [
      "number of column= 15\n"
     ]
    }
   ],
   "source": [
    "# number of columns before column drop\n",
    "\n",
    "print(f\"number of column= {data.shape[1]}\")"
   ]
  },
  {
   "cell_type": "code",
   "execution_count": 20,
   "id": "ac637c51",
   "metadata": {},
   "outputs": [],
   "source": [
    "data2= data.drop(['Trades'], axis=1)"
   ]
  },
  {
   "cell_type": "code",
   "execution_count": 22,
   "id": "f8f3fe15",
   "metadata": {},
   "outputs": [
    {
     "name": "stdout",
     "output_type": "stream",
     "text": [
      "number of column= 14\n"
     ]
    }
   ],
   "source": [
    "#number of columns after column drop\n",
    "\n",
    "print(f\"number of column= {data2.shape[1]}\")"
   ]
  },
  {
   "cell_type": "code",
   "execution_count": 25,
   "id": "5659a6a6",
   "metadata": {},
   "outputs": [
    {
     "data": {
      "text/plain": [
       "Deliverable Volume    24.367446\n",
       "%Deliverble           24.367446\n",
       "Last                   8.831587\n",
       "Date                   0.000000\n",
       "Symbol                 0.000000\n",
       "Series                 0.000000\n",
       "Prev Close             0.000000\n",
       "Open                   0.000000\n",
       "High                   0.000000\n",
       "Low                    0.000000\n",
       "Close                  0.000000\n",
       "VWAP                   0.000000\n",
       "Volume                 0.000000\n",
       "Turnover               0.000000\n",
       "dtype: float64"
      ]
     },
     "execution_count": 25,
     "metadata": {},
     "output_type": "execute_result"
    }
   ],
   "source": [
    "data2.isnull().sum().sort_values(ascending=False)/len(data2)*100"
   ]
  },
  {
   "cell_type": "code",
   "execution_count": 27,
   "id": "248dcc05",
   "metadata": {},
   "outputs": [
    {
     "data": {
      "text/plain": [
       "0   NaN\n",
       "1   NaN\n",
       "2   NaN\n",
       "3   NaN\n",
       "4   NaN\n",
       "Name: Last, dtype: float64"
      ]
     },
     "execution_count": 27,
     "metadata": {},
     "output_type": "execute_result"
    }
   ],
   "source": [
    "data2['Last'].head()"
   ]
  },
  {
   "cell_type": "markdown",
   "id": "f1a07e6c",
   "metadata": {},
   "source": [
    "------\n",
    "#### Deliverable Volume"
   ]
  },
  {
   "cell_type": "code",
   "execution_count": 38,
   "id": "541cd52a",
   "metadata": {},
   "outputs": [
    {
     "data": {
      "image/png": "[encoded data removed]",
      "text/plain": [
       "<Figure size 432x288 with 1 Axes>"
      ]
     },
     "metadata": {
      "needs_background": "light"
     },
     "output_type": "display_data"
    },
    {
     "name": "stdout",
     "output_type": "stream",
     "text": [
      "Skewness of the data is 4.230016870943885\n"
     ]
    }
   ],
   "source": [
    "sns.distplot(data2['Deliverable Volume'], color='red').set(title='Deliverable Volume')\n",
    "plt.show()\n",
    "print(f\"Skewness of the data is {data2['Deliverable Volume'].skew()}\")"
   ]
  },
  {
   "cell_type": "markdown",
   "id": "3f0b07b4",
   "metadata": {},
   "source": [
    "#### As the data is highly skewed, therefore we use Mode to replace Null values in column [Deliverable Volume]"
   ]
  },
  {
   "cell_type": "markdown",
   "id": "e3558acf",
   "metadata": {},
   "source": [
    "------\n",
    "#### %Deliverble"
   ]
  },
  {
   "cell_type": "code",
   "execution_count": 42,
   "id": "f0bbce28",
   "metadata": {},
   "outputs": [
    {
     "data": {
      "text/plain": [
       "6200    0.2461\n",
       "6201    0.2251\n",
       "6202    0.2019\n",
       "6203    0.2857\n",
       "6204    0.5717\n",
       "Name: %Deliverble, dtype: float64"
      ]
     },
     "execution_count": 42,
     "metadata": {},
     "output_type": "execute_result"
    }
   ],
   "source": [
    "data2['%Deliverble'].tail()"
   ]
  },
  {
   "cell_type": "code",
   "execution_count": 47,
   "id": "5b5c3e71",
   "metadata": {},
   "outputs": [
    {
     "data": {
      "image/png": "[encoded data removed]",
      "text/plain": [
       "<Figure size 432x288 with 1 Axes>"
      ]
     },
     "metadata": {
      "needs_background": "light"
     },
     "output_type": "display_data"
    },
    {
     "name": "stdout",
     "output_type": "stream",
     "text": [
      "Skewness of the data is -0.15570560526885016\n"
     ]
    }
   ],
   "source": [
    "sns.distplot(data2['%Deliverble'], color='red').set(title='%Deliverble')\n",
    "plt.show()\n",
    "\n",
    "print(f\"Skewness of the data is {data2['%Deliverble'].skew()}\")"
   ]
  },
  {
   "cell_type": "markdown",
   "id": "71d1c8d6",
   "metadata": {},
   "source": [
    "#### As the data is fairly symmetrical, therefore we use Mean to replace Null values in column [%Deliverble]"
   ]
  },
  {
   "cell_type": "markdown",
   "id": "74588ece",
   "metadata": {},
   "source": [
    "------\n",
    "#### Last"
   ]
  },
  {
   "cell_type": "code",
   "execution_count": 51,
   "id": "8d6010d9",
   "metadata": {},
   "outputs": [
    {
     "data": {
      "image/png": "[encoded data removed]",
      "text/plain": [
       "<Figure size 432x288 with 1 Axes>"
      ]
     },
     "metadata": {
      "needs_background": "light"
     },
     "output_type": "display_data"
    },
    {
     "name": "stdout",
     "output_type": "stream",
     "text": [
      "Skewness of the data is 0.9930201110592883\n"
     ]
    }
   ],
   "source": [
    "sns.distplot(data2['Last'], color='red').set(title='Last')\n",
    "plt.show()\n",
    "\n",
    "print(f\"Skewness of the data is {data2['Last'].skew()}\")"
   ]
  },
  {
   "cell_type": "markdown",
   "id": "b4525a9e",
   "metadata": {},
   "source": [
    "#### As the data is moderately skewed, therefore we use Median to replace Null values in column [%Deliverble]"
   ]
  },
  {
   "cell_type": "markdown",
   "id": "069bbe06",
   "metadata": {},
   "source": [
    "## Imputing Missing values"
   ]
  },
  {
   "cell_type": "markdown",
   "id": "40b29258",
   "metadata": {},
   "source": [
    "#### Deliverable Volume\n",
    "Imputing missing values with mode"
   ]
  },
  {
   "cell_type": "code",
   "execution_count": 58,
   "id": "d0114cbb",
   "metadata": {},
   "outputs": [
    {
     "name": "stdout",
     "output_type": "stream",
     "text": [
      "Number of Null values are 1512\n"
     ]
    }
   ],
   "source": [
    "print(f\"Number of Null values are {data2['Deliverable Volume'].isnull().sum()}\")"
   ]
  },
  {
   "cell_type": "code",
   "execution_count": 53,
   "id": "eb5130c6",
   "metadata": {},
   "outputs": [
    {
     "data": {
      "text/plain": [
       "518905.0"
      ]
     },
     "execution_count": 53,
     "metadata": {},
     "output_type": "execute_result"
    }
   ],
   "source": [
    "data2['Deliverable Volume'].mode()[0]"
   ]
  },
  {
   "cell_type": "code",
   "execution_count": 59,
   "id": "06fafcee",
   "metadata": {},
   "outputs": [],
   "source": [
    "data2['Deliverable Volume']= data2['Deliverable Volume'].fillna(data2['Deliverable Volume'].mode()[0])"
   ]
  },
  {
   "cell_type": "code",
   "execution_count": 60,
   "id": "87dff954",
   "metadata": {},
   "outputs": [
    {
     "name": "stdout",
     "output_type": "stream",
     "text": [
      "Number of Null values are 0\n"
     ]
    }
   ],
   "source": [
    "print(f\"Number of Null values are {data2['Deliverable Volume'].isnull().sum()}\")"
   ]
  },
  {
   "cell_type": "markdown",
   "id": "c98516d8",
   "metadata": {},
   "source": [
    "#### %Deliverble\n",
    "Imputing missing values with mean"
   ]
  },
  {
   "cell_type": "code",
   "execution_count": 62,
   "id": "f1de4ca3",
   "metadata": {},
   "outputs": [
    {
     "data": {
      "text/plain": [
       "Index(['Date', 'Symbol', 'Series', 'Prev Close', 'Open', 'High', 'Low', 'Last',\n",
       "       'Close', 'VWAP', 'Volume', 'Turnover', 'Deliverable Volume',\n",
       "       '%Deliverble'],\n",
       "      dtype='object')"
      ]
     },
     "execution_count": 62,
     "metadata": {},
     "output_type": "execute_result"
    }
   ],
   "source": [
    "data2.columns"
   ]
  },
  {
   "cell_type": "code",
   "execution_count": 65,
   "id": "b3c884c3",
   "metadata": {},
   "outputs": [
    {
     "data": {
      "text/plain": [
       "0.43633160025570006"
      ]
     },
     "execution_count": 65,
     "metadata": {},
     "output_type": "execute_result"
    }
   ],
   "source": [
    "data2['%Deliverble'].mean()"
   ]
  },
  {
   "cell_type": "code",
   "execution_count": 64,
   "id": "18bd1716",
   "metadata": {},
   "outputs": [
    {
     "name": "stdout",
     "output_type": "stream",
     "text": [
      "Number of Null values are 1512\n"
     ]
    }
   ],
   "source": [
    "print(f\"Number of Null values are {data2['%Deliverble'].isnull().sum()}\")"
   ]
  },
  {
   "cell_type": "code",
   "execution_count": 66,
   "id": "f32e5b81",
   "metadata": {},
   "outputs": [],
   "source": [
    "data2['%Deliverble']= data2['%Deliverble'].fillna(data2['%Deliverble'].mean())"
   ]
  },
  {
   "cell_type": "code",
   "execution_count": 67,
   "id": "70db84ae",
   "metadata": {},
   "outputs": [
    {
     "name": "stdout",
     "output_type": "stream",
     "text": [
      "Number of Null values are 0\n"
     ]
    }
   ],
   "source": [
    "print(f\"Number of Null values are {data2['%Deliverble'].isnull().sum()}\")"
   ]
  },
  {
   "cell_type": "markdown",
   "id": "8d220a00",
   "metadata": {},
   "source": [
    "#### Last\n",
    "Imputing missing values with median"
   ]
  },
  {
   "cell_type": "code",
   "execution_count": 71,
   "id": "67a7038c",
   "metadata": {},
   "outputs": [
    {
     "data": {
      "text/plain": [
       "892.35"
      ]
     },
     "execution_count": 71,
     "metadata": {},
     "output_type": "execute_result"
    }
   ],
   "source": [
    "data2['Last'].median()"
   ]
  },
  {
   "cell_type": "code",
   "execution_count": 72,
   "id": "f96f9f17",
   "metadata": {},
   "outputs": [
    {
     "name": "stdout",
     "output_type": "stream",
     "text": [
      "Number of Null values are 548\n"
     ]
    }
   ],
   "source": [
    "print(f\"Number of Null values are {data2['Last'].isnull().sum()}\")"
   ]
  },
  {
   "cell_type": "code",
   "execution_count": 73,
   "id": "52da1889",
   "metadata": {},
   "outputs": [],
   "source": [
    "data2['Last'] = data2['Last'].fillna(data2['Last'].median())"
   ]
  },
  {
   "cell_type": "code",
   "execution_count": 74,
   "id": "53ffc920",
   "metadata": {},
   "outputs": [
    {
     "name": "stdout",
     "output_type": "stream",
     "text": [
      "Number of Null values are 0\n"
     ]
    }
   ],
   "source": [
    "print(f\"Number of Null values are {data2['Last'].isnull().sum()}\")"
   ]
  },
  {
   "cell_type": "markdown",
   "id": "296d81c2",
   "metadata": {},
   "source": [
    "### Export Clean data to CSV"
   ]
  },
  {
   "cell_type": "code",
   "execution_count": 75,
   "id": "13002f71",
   "metadata": {},
   "outputs": [],
   "source": [
    "data2.to_csv(r'C:\\Users\\WIN8\\Desktop\\Reliance\\reliance_data_clean.csv')"
   ]
  },
  {
   "cell_type": "code",
   "execution_count": null,
   "id": "caa55459",
   "metadata": {},
   "outputs": [],
   "source": []
  }
 ],
 "metadata": {
  "kernelspec": {
   "display_name": "Python 3 (ipykernel)",
   "language": "python",
   "name": "python3"
  },
  "language_info": {
   "codemirror_mode": {
    "name": "ipython",
    "version": 3
   },
   "file_extension": ".py",
   "mimetype": "text/x-python",
   "name": "python",
   "nbconvert_exporter": "python",
   "pygments_lexer": "ipython3",
   "version": "3.9.12"
  }
 },
 "nbformat": 4,
 "nbformat_minor": 5
}
